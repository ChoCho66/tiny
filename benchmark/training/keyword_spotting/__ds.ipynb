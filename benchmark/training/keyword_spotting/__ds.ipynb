{
 "cells": [
  {
   "cell_type": "code",
   "execution_count": 1,
   "metadata": {},
   "outputs": [
    {
     "name": "stderr",
     "output_type": "stream",
     "text": [
      "2024-12-13 16:54:41.195961: E external/local_xla/xla/stream_executor/cuda/cuda_fft.cc:477] Unable to register cuFFT factory: Attempting to register factory for plugin cuFFT when one has already been registered\n",
      "WARNING: All log messages before absl::InitializeLog() is called are written to STDERR\n",
      "E0000 00:00:1734080081.212930  610550 cuda_dnn.cc:8310] Unable to register cuDNN factory: Attempting to register factory for plugin cuDNN when one has already been registered\n",
      "E0000 00:00:1734080081.217714  610550 cuda_blas.cc:1418] Unable to register cuBLAS factory: Attempting to register factory for plugin cuBLAS when one has already been registered\n",
      "2024-12-13 16:54:41.234818: I tensorflow/core/platform/cpu_feature_guard.cc:210] This TensorFlow binary is optimized to use available CPU instructions in performance-critical operations.\n",
      "To enable the following instructions: AVX2 AVX512F FMA, in other operations, rebuild TensorFlow with the appropriate compiler flags.\n",
      "I0000 00:00:1734080083.354778  610550 gpu_device.cc:2022] Created device /job:localhost/replica:0/task:0/device:GPU:0 with 21471 MB memory:  -> device: 0, name: Quadro RTX 6000, pci bus id: 0000:0b:00.0, compute capability: 7.5\n",
      "2024-12-13 16:54:43.755743: I tensorflow/core/kernels/data/tf_record_dataset_op.cc:376] The default buffer size is 262144, which is overridden by the user specified `buffer_size` of 8388608\n"
     ]
    },
    {
     "name": "stdout",
     "output_type": "stream",
     "text": [
      "\n",
      "\n",
      "\n",
      "\n",
      "Dataset: speech_commands\n",
      "Features: FeaturesDict({\n",
      "    'audio': Audio(shape=(None,), dtype=int16),\n",
      "    'label': ClassLabel(shape=(), dtype=int64, num_classes=12),\n",
      "})\n"
     ]
    },
    {
     "name": "stderr",
     "output_type": "stream",
     "text": [
      "2024-12-13 16:54:55.598405: I tensorflow/core/framework/local_rendezvous.cc:405] Local rendezvous is aborting with status: OUT_OF_RANGE: End of sequence\n"
     ]
    },
    {
     "name": "stdout",
     "output_type": "stream",
     "text": [
      "Train samples: 85511\n"
     ]
    },
    {
     "name": "stderr",
     "output_type": "stream",
     "text": [
      "2024-12-13 16:54:57.233550: I tensorflow/core/framework/local_rendezvous.cc:405] Local rendezvous is aborting with status: OUT_OF_RANGE: End of sequence\n"
     ]
    },
    {
     "name": "stdout",
     "output_type": "stream",
     "text": [
      "Validation samples: 10102\n",
      "Test samples: 4890\n",
      "Labels: ['down', 'go', 'left', 'no', 'off', 'on', 'right', 'stop', 'up', 'yes', '_silence_', '_unknown_']\n"
     ]
    }
   ],
   "source": [
    "import tensorflow as tf\n",
    "import tensorflow_datasets as tfds\n",
    "import os\n",
    "\n",
    "# 加載 Speech Commands 數據集\n",
    "dataset_name = \"speech_commands\"\n",
    "data_splits = ['train', 'test', 'validation']\n",
    "\n",
    "# 下載數據集\n",
    "datasets, dataset_info = tfds.load(\n",
    "    dataset_name,\n",
    "    split=data_splits,\n",
    "    data_dir=os.path.join(os.getenv('HOME'), 'data'),\n",
    "    # as_supervised=True,  # 返回 (audio, label) 形式的資料\n",
    "    with_info=True  # 包含數據集的附加信息\n",
    ")\n",
    "\n",
    "train_dataset, test_dataset, validation_dataset = datasets\n",
    "\n",
    "# 查看數據集的基本信息\n",
    "print()\n",
    "print()\n",
    "print()\n",
    "print()\n",
    "print(f\"Dataset: {dataset_name}\")\n",
    "print(f\"Features: {dataset_info.features}\")\n",
    "print(f\"Train samples: {len(list(train_dataset))}\")\n",
    "print(f\"Validation samples: {len(list(validation_dataset))}\")\n",
    "print(f\"Test samples: {len(list(test_dataset))}\")\n",
    "print(f\"Labels: {dataset_info.features['label'].names}\")"
   ]
  },
  {
   "cell_type": "code",
   "execution_count": 7,
   "metadata": {},
   "outputs": [
    {
     "data": {
      "text/plain": [
       "{'_file_format': 'wav',\n",
       " '_sample_rate': 16000,\n",
       " '_lazy_decode': False,\n",
       " '_doc': Documentation(desc=None, value_range=None),\n",
       " '_shape': (None,),\n",
       " '_dtype': numpy.int16,\n",
       " '_serialized_dtype': numpy.int16,\n",
       " '_serialized_shape': (None,),\n",
       " '_encoding': <Encoding.NONE: 'none'>,\n",
       " '_encoded_to_bytes': False,\n",
       " '_dynamic_shape': False,\n",
       " '_minimum': None,\n",
       " '_maximum': None,\n",
       " '_optional': False,\n",
       " '_audio_decoder': <tensorflow_datasets.core.features.audio_feature._EagerDecoder at 0x7e776487bdd0>,\n",
       " 'np_dtype': numpy.int16,\n",
       " 'tf_dtype': tf.int16}"
      ]
     },
     "execution_count": 7,
     "metadata": {},
     "output_type": "execute_result"
    }
   ],
   "source": [
    "dataset_info.features['audio'].__dict__"
   ]
  },
  {
   "cell_type": "code",
   "execution_count": 3,
   "metadata": {},
   "outputs": [
    {
     "name": "stdout",
     "output_type": "stream",
     "text": [
      "採樣率: 16000 Hz\n"
     ]
    }
   ],
   "source": [
    "# 打印採樣率\n",
    "sample_rate = dataset_info.features['audio'].sample_rate\n",
    "print(f\"採樣率: {sample_rate} Hz\")"
   ]
  },
  {
   "cell_type": "code",
   "execution_count": 2,
   "metadata": {},
   "outputs": [
    {
     "name": "stdout",
     "output_type": "stream",
     "text": [
      "{'audio': TensorSpec(shape=(None,), dtype=tf.int16, name=None), 'label': TensorSpec(shape=(), dtype=tf.int64, name=None)}\n"
     ]
    }
   ],
   "source": [
    "print(train_dataset.element_spec)"
   ]
  },
  {
   "cell_type": "code",
   "execution_count": 14,
   "metadata": {},
   "outputs": [
    {
     "data": {
      "text/plain": [
       "{'audio': <tf.Tensor: shape=(16000,), dtype=int16, numpy=array([-15, -18, -12, ...,  16,  21,  25], dtype=int16)>,\n",
       " 'label': <tf.Tensor: shape=(), dtype=int64, numpy=4>}"
      ]
     },
     "execution_count": 14,
     "metadata": {},
     "output_type": "execute_result"
    }
   ],
   "source": [
    "_ = iter(train_dataset).next()\n",
    "_"
   ]
  },
  {
   "cell_type": "code",
   "execution_count": null,
   "metadata": {},
   "outputs": [],
   "source": []
  },
  {
   "cell_type": "code",
   "execution_count": 16,
   "metadata": {},
   "outputs": [
    {
     "data": {
      "text/plain": [
       "<tf.Tensor: shape=(16000,), dtype=int16, numpy=array([-15, -18, -12, ...,  16,  21,  25], dtype=int16)>"
      ]
     },
     "execution_count": 16,
     "metadata": {},
     "output_type": "execute_result"
    }
   ],
   "source": [
    "_['audio']"
   ]
  },
  {
   "cell_type": "code",
   "execution_count": 17,
   "metadata": {},
   "outputs": [
    {
     "name": "stdout",
     "output_type": "stream",
     "text": [
      "音訊已保存到 __test.wav\n"
     ]
    }
   ],
   "source": [
    "# import tensorflow as tf\n",
    "import soundfile as sf\n",
    "\n",
    "# 假設 audio_tensor 是從 train_dataset 中提取的音訊 Tensor\n",
    "audio_tensor = _['audio']\n",
    "\n",
    "# 將 Tensor 轉為 NumPy 陣列\n",
    "audio_array = audio_tensor.numpy()\n",
    "\n",
    "# 指定採樣率（speech_commands 默認為 16kHz）\n",
    "sample_rate = 16000\n",
    "\n",
    "# 保存為 WAV 文件\n",
    "output_filename = \"__test.wav\"\n",
    "sf.write(output_filename, audio_array, sample_rate)\n",
    "\n",
    "print(f\"音訊已保存到 {output_filename}\")"
   ]
  },
  {
   "cell_type": "code",
   "execution_count": 18,
   "metadata": {},
   "outputs": [
    {
     "data": {
      "text/html": [
       "\n",
       "                <audio  controls=\"controls\" >\n",
       "                    <source src=\"data:audio/x-wav;base64,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\" type=\"audio/x-wav\" />\n",
       "                    Your browser does not support the audio element.\n",
       "                </audio>\n",
       "              "
      ],
      "text/plain": [
       "<IPython.lib.display.Audio object>"
      ]
     },
     "execution_count": 18,
     "metadata": {},
     "output_type": "execute_result"
    }
   ],
   "source": [
    "from IPython.display import Audio\n",
    "\n",
    "# 播放音訊\n",
    "Audio(output_filename)"
   ]
  }
 ],
 "metadata": {
  "kernelspec": {
   "display_name": ".MLPerf311-train",
   "language": "python",
   "name": "python3"
  },
  "language_info": {
   "codemirror_mode": {
    "name": "ipython",
    "version": 3
   },
   "file_extension": ".py",
   "mimetype": "text/x-python",
   "name": "python",
   "nbconvert_exporter": "python",
   "pygments_lexer": "ipython3",
   "version": "3.11.10"
  }
 },
 "nbformat": 4,
 "nbformat_minor": 2
}
