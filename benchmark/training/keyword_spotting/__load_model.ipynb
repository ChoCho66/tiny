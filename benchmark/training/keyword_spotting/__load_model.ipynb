{
 "cells": [
  {
   "cell_type": "markdown",
   "metadata": {},
   "source": [
    "# Load h5"
   ]
  },
  {
   "cell_type": "code",
   "execution_count": 1,
   "metadata": {},
   "outputs": [
    {
     "name": "stderr",
     "output_type": "stream",
     "text": [
      "2024-12-12 16:58:13.488499: E external/local_xla/xla/stream_executor/cuda/cuda_fft.cc:477] Unable to register cuFFT factory: Attempting to register factory for plugin cuFFT when one has already been registered\n",
      "WARNING: All log messages before absl::InitializeLog() is called are written to STDERR\n",
      "E0000 00:00:1733993893.505612  452176 cuda_dnn.cc:8310] Unable to register cuDNN factory: Attempting to register factory for plugin cuDNN when one has already been registered\n",
      "E0000 00:00:1733993893.510592  452176 cuda_blas.cc:1418] Unable to register cuBLAS factory: Attempting to register factory for plugin cuBLAS when one has already been registered\n",
      "2024-12-12 16:58:13.527422: I tensorflow/core/platform/cpu_feature_guard.cc:210] This TensorFlow binary is optimized to use available CPU instructions in performance-critical operations.\n",
      "To enable the following instructions: AVX2 AVX512F FMA, in other operations, rebuild TensorFlow with the appropriate compiler flags.\n",
      "I0000 00:00:1733993895.550779  452176 gpu_device.cc:2022] Created device /job:localhost/replica:0/task:0/device:GPU:0 with 21471 MB memory:  -> device: 0, name: Quadro RTX 6000, pci bus id: 0000:0b:00.0, compute capability: 7.5\n",
      "WARNING:absl:Compiled the loaded model, but the compiled metrics have yet to be built. `model.compile_metrics` will be empty until you train or evaluate the model.\n"
     ]
    }
   ],
   "source": [
    "from tensorflow import keras\n",
    "\n",
    "model = keras.models.load_model(\"./trained_models/kws_model.h5\")"
   ]
  },
  {
   "cell_type": "code",
   "execution_count": 2,
   "metadata": {},
   "outputs": [
    {
     "data": {
      "text/plain": [
       "<KerasTensor shape=(None, 49, 10, 1), dtype=float32, sparse=False, name=input_layer>"
      ]
     },
     "execution_count": 2,
     "metadata": {},
     "output_type": "execute_result"
    }
   ],
   "source": [
    "model.input"
   ]
  },
  {
   "cell_type": "code",
   "execution_count": 8,
   "metadata": {},
   "outputs": [
    {
     "name": "stdout",
     "output_type": "stream",
     "text": [
      "Random input data shape: (5, 49, 10, 1)\n"
     ]
    }
   ],
   "source": [
    "import numpy as np\n",
    "\n",
    "# 定義輸入形狀 (49, 10, 1)\n",
    "input_shape = (5,49, 10, 1)\n",
    "\n",
    "# 生成隨機輸入數據，值域在 0 和 1 之間（可根據需要調整範圍）\n",
    "random_data = np.random.random(input_shape).astype(np.float32)\n",
    "\n",
    "# 檢查生成數據的形狀\n",
    "print(\"Random input data shape:\", random_data.shape)"
   ]
  },
  {
   "cell_type": "code",
   "execution_count": 12,
   "metadata": {},
   "outputs": [
    {
     "data": {
      "text/plain": [
       "<tf.Tensor: shape=(5, 12), dtype=float32, numpy=\n",
       "array([[3.3107188e-02, 1.8307546e-02, 2.2391740e-02, 9.8935943e-03,\n",
       "        3.5346135e-02, 4.8190063e-01, 1.2375110e-02, 4.7549251e-03,\n",
       "        2.0070558e-02, 1.1276059e-02, 1.9837824e-04, 3.5037810e-01],\n",
       "       [3.3474151e-02, 1.8397849e-02, 2.2186341e-02, 1.1371152e-02,\n",
       "        2.8211489e-02, 4.6600327e-01, 1.2240857e-02, 5.2732271e-03,\n",
       "        1.7311089e-02, 1.1821508e-02, 1.7622387e-04, 3.7353286e-01],\n",
       "       [2.8724747e-02, 1.4749967e-02, 2.3112694e-02, 7.8635011e-03,\n",
       "        3.6105108e-02, 4.7681385e-01, 1.2290912e-02, 5.0713215e-03,\n",
       "        1.9153949e-02, 1.0088203e-02, 1.6789736e-04, 3.6585784e-01],\n",
       "       [3.0150685e-02, 1.6742840e-02, 2.6668383e-02, 9.3297921e-03,\n",
       "        3.1946670e-02, 4.5188710e-01, 1.4934554e-02, 5.5071409e-03,\n",
       "        1.6808454e-02, 1.0293491e-02, 1.7482247e-04, 3.8555601e-01],\n",
       "       [3.8017865e-02, 1.7025813e-02, 2.3796320e-02, 1.0138495e-02,\n",
       "        2.8503824e-02, 4.5935825e-01, 1.2409093e-02, 6.1739879e-03,\n",
       "        1.9424453e-02, 9.2177093e-03, 1.3623682e-04, 3.7579799e-01]],\n",
       "      dtype=float32)>"
      ]
     },
     "execution_count": 12,
     "metadata": {},
     "output_type": "execute_result"
    }
   ],
   "source": [
    "model(random_data)"
   ]
  },
  {
   "cell_type": "markdown",
   "metadata": {},
   "source": [
    "# Load tflite"
   ]
  },
  {
   "cell_type": "code",
   "execution_count": 2,
   "metadata": {},
   "outputs": [
    {
     "name": "stdout",
     "output_type": "stream",
     "text": [
      "Input details: [{'name': 'serving_default_input_layer:0', 'index': 0, 'shape': array([ 1, 49, 10,  1], dtype=int32), 'shape_signature': array([-1, 49, 10,  1], dtype=int32), 'dtype': <class 'numpy.float32'>, 'quantization': (0.0, 0), 'quantization_parameters': {'scales': array([], dtype=float32), 'zero_points': array([], dtype=int32), 'quantized_dimension': 0}, 'sparsity_parameters': {}}]\n",
      "Output details: [{'name': 'StatefulPartitionedCall_1:0', 'index': 34, 'shape': array([ 1, 12], dtype=int32), 'shape_signature': array([-1, 12], dtype=int32), 'dtype': <class 'numpy.float32'>, 'quantization': (0.0, 0), 'quantization_parameters': {'scales': array([], dtype=float32), 'zero_points': array([], dtype=int32), 'quantized_dimension': 0}, 'sparsity_parameters': {}}]\n"
     ]
    },
    {
     "name": "stderr",
     "output_type": "stream",
     "text": [
      "INFO: Created TensorFlow Lite XNNPACK delegate for CPU.\n"
     ]
    }
   ],
   "source": [
    "import numpy as np\n",
    "import tensorflow as tf\n",
    "\n",
    "# 1. 載入 TensorFlow Lite 模型\n",
    "interpreter = tf.lite.Interpreter(model_path=\"./trained_models/kws_model_float32.tflite\")\n",
    "\n",
    "# 2. 配置解譯器\n",
    "interpreter.allocate_tensors()\n",
    "\n",
    "# 3. 檢查輸入/輸出細節\n",
    "input_details = interpreter.get_input_details()\n",
    "output_details = interpreter.get_output_details()\n",
    "\n",
    "print(\"Input details:\", input_details)\n",
    "print(\"Output details:\", output_details)"
   ]
  },
  {
   "cell_type": "code",
   "execution_count": 3,
   "metadata": {},
   "outputs": [
    {
     "name": "stdout",
     "output_type": "stream",
     "text": [
      "Model output: [[3.1352654e-02 1.5878821e-02 2.4776682e-02 9.4797174e-03 3.2707583e-02\n",
      "  4.6977413e-01 1.3405719e-02 5.6135906e-03 1.9217107e-02 1.0959848e-02\n",
      "  1.7620620e-04 3.6665797e-01]]\n"
     ]
    }
   ],
   "source": [
    "# 4. 生成隨機輸入數據\n",
    "input_shape = input_details[0]['shape']  # 獲取輸入形狀\n",
    "random_input = np.random.random(input_shape).astype(np.float32)\n",
    "\n",
    "# 5. 將輸入數據設置到解譯器\n",
    "interpreter.set_tensor(input_details[0]['index'], random_input)\n",
    "\n",
    "# 6. 執行推論\n",
    "interpreter.invoke()\n",
    "\n",
    "# 7. 獲取輸出結果\n",
    "output_data = interpreter.get_tensor(output_details[0]['index'])\n",
    "\n",
    "print(\"Model output:\", output_data)"
   ]
  }
 ],
 "metadata": {
  "kernelspec": {
   "display_name": ".MLPerf311-train",
   "language": "python",
   "name": "python3"
  },
  "language_info": {
   "codemirror_mode": {
    "name": "ipython",
    "version": 3
   },
   "file_extension": ".py",
   "mimetype": "text/x-python",
   "name": "python",
   "nbconvert_exporter": "python",
   "pygments_lexer": "ipython3",
   "version": "3.11.10"
  }
 },
 "nbformat": 4,
 "nbformat_minor": 2
}
