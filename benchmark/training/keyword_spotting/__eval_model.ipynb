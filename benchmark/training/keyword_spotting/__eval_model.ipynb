{
 "cells": [
  {
   "cell_type": "code",
   "execution_count": 1,
   "metadata": {},
   "outputs": [
    {
     "name": "stderr",
     "output_type": "stream",
     "text": [
      "2024-12-12 19:52:18.179345: E external/local_xla/xla/stream_executor/cuda/cuda_fft.cc:477] Unable to register cuFFT factory: Attempting to register factory for plugin cuFFT when one has already been registered\n",
      "WARNING: All log messages before absl::InitializeLog() is called are written to STDERR\n",
      "E0000 00:00:1734004338.197665  476217 cuda_dnn.cc:8310] Unable to register cuDNN factory: Attempting to register factory for plugin cuDNN when one has already been registered\n",
      "E0000 00:00:1734004338.203032  476217 cuda_blas.cc:1418] Unable to register cuBLAS factory: Attempting to register factory for plugin cuBLAS when one has already been registered\n",
      "2024-12-12 19:52:18.220743: I tensorflow/core/platform/cpu_feature_guard.cc:210] This TensorFlow binary is optimized to use available CPU instructions in performance-critical operations.\n",
      "To enable the following instructions: AVX2 AVX512F FMA, in other operations, rebuild TensorFlow with the appropriate compiler flags.\n",
      "I0000 00:00:1734004340.384646  476217 gpu_device.cc:2022] Created device /job:localhost/replica:0/task:0/device:GPU:0 with 21471 MB memory:  -> device: 0, name: Quadro RTX 6000, pci bus id: 0000:0b:00.0, compute capability: 7.5\n"
     ]
    }
   ],
   "source": [
    "import tensorflow as tf\n",
    "import tensorflow_datasets as tfds\n",
    "import os\n",
    "\n",
    "# 加載 Speech Commands 數據集\n",
    "dataset_name = \"speech_commands\"\n",
    "data_splits = ['train', 'test', 'validation']\n",
    "\n",
    "# 下載數據集\n",
    "datasets, dataset_info = tfds.load(\n",
    "    dataset_name,\n",
    "    split=data_splits,\n",
    "    data_dir=os.path.join(os.getenv('HOME'), 'data'),\n",
    "    # as_supervised=True,  # 返回 (audio, label) 形式的資料\n",
    "    with_info=True  # 包含數據集的附加信息\n",
    ")\n",
    "\n",
    "train_dataset, test_dataset, validation_dataset = datasets"
   ]
  },
  {
   "cell_type": "code",
   "execution_count": 2,
   "metadata": {},
   "outputs": [
    {
     "name": "stderr",
     "output_type": "stream",
     "text": [
      "2024-12-12 19:52:22.652851: I tensorflow/core/kernels/data/tf_record_dataset_op.cc:376] The default buffer size is 262144, which is overridden by the user specified `buffer_size` of 8388608\n"
     ]
    },
    {
     "data": {
      "text/plain": [
       "{'audio': <tf.Tensor: shape=(16000,), dtype=int16, numpy=array([  -1,   -2,   -2, ..., -136, -170, -203], dtype=int16)>,\n",
       " 'label': <tf.Tensor: shape=(), dtype=int64, numpy=7>}"
      ]
     },
     "execution_count": 2,
     "metadata": {},
     "output_type": "execute_result"
    }
   ],
   "source": [
    "_ = iter(test_dataset).next()\n",
    "_"
   ]
  },
  {
   "cell_type": "code",
   "execution_count": 1,
   "metadata": {},
   "outputs": [
    {
     "name": "stderr",
     "output_type": "stream",
     "text": [
      "2024-12-12 19:24:09.480038: E external/local_xla/xla/stream_executor/cuda/cuda_fft.cc:477] Unable to register cuFFT factory: Attempting to register factory for plugin cuFFT when one has already been registered\n",
      "WARNING: All log messages before absl::InitializeLog() is called are written to STDERR\n",
      "E0000 00:00:1734002649.496309  472487 cuda_dnn.cc:8310] Unable to register cuDNN factory: Attempting to register factory for plugin cuDNN when one has already been registered\n",
      "E0000 00:00:1734002649.501476  472487 cuda_blas.cc:1418] Unable to register cuBLAS factory: Attempting to register factory for plugin cuBLAS when one has already been registered\n",
      "2024-12-12 19:24:09.517117: I tensorflow/core/platform/cpu_feature_guard.cc:210] This TensorFlow binary is optimized to use available CPU instructions in performance-critical operations.\n",
      "To enable the following instructions: AVX2 AVX512F FMA, in other operations, rebuild TensorFlow with the appropriate compiler flags.\n",
      "I0000 00:00:1734002651.441386  472487 gpu_device.cc:2022] Created device /job:localhost/replica:0/task:0/device:GPU:0 with 21471 MB memory:  -> device: 0, name: Quadro RTX 6000, pci bus id: 0000:0b:00.0, compute capability: 7.5\n",
      "WARNING:absl:Compiled the loaded model, but the compiled metrics have yet to be built. `model.compile_metrics` will be empty until you train or evaluate the model.\n"
     ]
    }
   ],
   "source": [
    "from tensorflow import keras\n",
    "\n",
    "model = keras.models.load_model(\"./trained_models/kws_model.h5\")"
   ]
  },
  {
   "cell_type": "code",
   "execution_count": 4,
   "metadata": {},
   "outputs": [
    {
     "data": {
      "text/plain": [
       "<KerasTensor shape=(None, 49, 10, 1), dtype=float32, sparse=False, name=input_layer>"
      ]
     },
     "execution_count": 4,
     "metadata": {},
     "output_type": "execute_result"
    }
   ],
   "source": [
    "model.input"
   ]
  },
  {
   "cell_type": "code",
   "execution_count": 4,
   "metadata": {},
   "outputs": [
    {
     "name": "stdout",
     "output_type": "stream",
     "text": [
      "(32, 10, 1)\n"
     ]
    }
   ],
   "source": [
    "import librosa\n",
    "import numpy as np\n",
    "import tensorflow as tf\n",
    "\n",
    "# 假設你有一個名為 audio 的 Tensor\n",
    "audio = _['audio']\n",
    "\n",
    "# 將 Tensor 轉為 numpy 陣列（如果需要）\n",
    "audio_np = audio.numpy().astype(np.float32)\n",
    "\n",
    "# 使用 librosa 提取 MFCC 特徵\n",
    "# 設定參數：n_mfcc=10, hop_length=512 等\n",
    "mfcc = librosa.feature.mfcc(y=audio_np, sr=16000, n_mfcc=10, hop_length=512)\n",
    "\n",
    "# mfcc 的形狀通常是 (n_mfcc, n_frames)，例如 (10, 49)\n",
    "# 如果你需要轉換為 (49, 10, 1)，需要轉置並增加通道維度\n",
    "\n",
    "mfcc = np.transpose(mfcc)  # 轉置為 (49, 10)\n",
    "mfcc = np.expand_dims(mfcc, axis=-1)  # 增加通道維度，變為 (49, 10, 1)\n",
    "\n",
    "# 確認形狀\n",
    "print(mfcc.shape)  # 應該輸出 (49, 10, 1)"
   ]
  }
 ],
 "metadata": {
  "kernelspec": {
   "display_name": ".MLPerf311-train",
   "language": "python",
   "name": "python3"
  },
  "language_info": {
   "codemirror_mode": {
    "name": "ipython",
    "version": 3
   },
   "file_extension": ".py",
   "mimetype": "text/x-python",
   "name": "python",
   "nbconvert_exporter": "python",
   "pygments_lexer": "ipython3",
   "version": "3.11.10"
  }
 },
 "nbformat": 4,
 "nbformat_minor": 2
}
